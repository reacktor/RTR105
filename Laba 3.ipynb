{
 "cells": [
  {
   "cell_type": "code",
   "execution_count": 2,
   "metadata": {},
   "outputs": [
    {
     "name": "stdout",
     "output_type": "stream",
     "text": [
      "Dotajā intervālā [10, 50] sakņu nav\n",
      "Sakne ir: 49.99992370605469\n"
     ]
    }
   ],
   "source": [
    "from math import sin, fabs, sqrt\n",
    "from time import sleep\n",
    "\n",
    "def f(x):\n",
    "    return sin(sqrt(x)) * sin(sqrt(x))\n",
    "\n",
    "a = 10\n",
    "b = 50\n",
    "\n",
    "funa = f(a)\n",
    "funb = f(b)\n",
    "\n",
    "if (funa * funb > 0.0):\n",
    "    print(\"Dotajā intervālā [%s, %s] sakņu nav\"%(a,b))  \n",
    "    sleep(1); exit()\n",
    "else:\n",
    "    print(\"Dotajā intervālā sakne(s) ir!\")\n",
    "\n",
    "deltax = 0.0001\n",
    "\n",
    "while ( fabs(b-a) > deltax ):\n",
    "    x = (a + b) / 2; funx = f(x)\n",
    "    if ( funa * funx < 0. ):\n",
    "        b = x\n",
    "    else:\n",
    "        a = x\n",
    "\n",
    "print(\"Sakne ir:\", x)\n"
   ]
  },
  {
   "cell_type": "code",
   "execution_count": null,
   "metadata": {},
   "outputs": [],
   "source": []
  }
 ],
 "metadata": {
  "kernelspec": {
   "display_name": "Python 3",
   "language": "python",
   "name": "python3"
  },
  "language_info": {
   "codemirror_mode": {
    "name": "ipython",
    "version": 3
   },
   "file_extension": ".py",
   "mimetype": "text/x-python",
   "name": "python",
   "nbconvert_exporter": "python",
   "pygments_lexer": "ipython3",
   "version": "3.6.4"
  }
 },
 "nbformat": 4,
 "nbformat_minor": 2
}
